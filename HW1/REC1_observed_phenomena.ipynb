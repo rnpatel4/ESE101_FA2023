{
  "cells": [
    {
      "cell_type": "markdown",
      "metadata": {
        "id": "dKXTCu4jNKHz"
      },
      "source": [
        "## ESE 101: Programming Module 1\n",
        "### Phenomena: Observed features of the atmospheric circulation\n",
        "#### Primarily coded by Ronak Patel, Ryan Ward, Jordan Benjamin, Shirui Peng, Dave Bonan, Tapio Schneider"
      ]
    },
    {
      "cell_type": "markdown",
      "metadata": {
        "id": "h-7zxPNENKHz"
      },
      "source": [
        "In this module, you will learn how to read in an plot data of the atmosphere in **python**. We will use output from a state-of-the-art climate model ([CESM2](http://www.cesm.ucar.edu/models/cesm2/)).\n",
        "\n",
        "You will need to have software installed to open, read, and run Jupyter notebooks such as this one. The best way to do this is to install Anaconda from: https://docs.anaconda.com/anaconda/install/. <br>\n",
        "This should install [Jupyter](https://jupyter.org/)'s notebook software (e.g. this document) and JupyterLab software (a more complete IDE), but, should you need to install them individually, you can via https://jupyter.org/install. <br>\n",
        "You can choose to intstall jupyterlab `conda install -c conda-forge jupyterlab`, or just the notebook `conda install -c conda-forge notebook`.\n",
        "\n",
        "_______\n",
        "\n",
        "An anaconda installation should have installed many the packages you need, the full required list is `matplotlib`, `cartopy`, `numpy`, `math`, `netcdf4`, `xarray`,`nc-time-axis`.\n",
        "Most of these are fairly common in python scientific computing, and `nc-time-axis` handles the time format conventions used in modern climate model datasets.\n",
        "\n",
        "We'll create a specific python environment for this homework set -- a good practice to make sure all these tools we are using remain compatible and don't conflict with other projects and work we might need later.\n",
        "\n",
        "_______"
      ]
    },
    {
      "cell_type": "markdown",
      "metadata": {
        "id": "m7ERwyyUNKH0"
      },
      "source": [
        "### Setup python environment to run this HW in:\n",
        "\n",
        "The cells below describe a process to set up a python environment to run the code for this HW in. <br>\n",
        "The lines can be run in the notebook with the prepended exclamation `!` marks, or in terminal/anaconda terminal without them."
      ]
    },
    {
      "cell_type": "code",
      "execution_count": null,
      "metadata": {
        "scrolled": true,
        "tags": [],
        "id": "6EfxoblxNKH0"
      },
      "outputs": [],
      "source": [
        "# install these packages locally so you can access the environment we're about to create through jupyter/jupyterlab graphical interface\n",
        "!conda install -c conda-forge --yes ipykernel nb_conda_kernels nb_conda"
      ]
    },
    {
      "cell_type": "markdown",
      "metadata": {
        "tags": [],
        "id": "e5Y_vGmvNKH0"
      },
      "source": [
        "<div class=\"alert alert-block alert-warning\">\n",
        "Completely close and restart jupyter/jupyterlab for these changes take effect!\n",
        "Then reopen and continue below\n",
        "</div>"
      ]
    },
    {
      "cell_type": "markdown",
      "metadata": {
        "tags": [],
        "id": "w-yRWmT8NKH0"
      },
      "source": [
        "Now let's create our homework environment, which we'll call `hw1_ese101` and install our necessary packages in it"
      ]
    },
    {
      "cell_type": "code",
      "execution_count": null,
      "metadata": {
        "scrolled": true,
        "tags": [],
        "id": "snHhayJ5NKH0"
      },
      "outputs": [],
      "source": [
        "# create our homework environment\n",
        "!conda create -n hw1_ese101 python=3.9 --yes\n",
        "# install packages in this new enviornment\n",
        "!conda install -c conda-forge --yes -n hw1_ese101 matplotlib cartopy numpy netcdf4 xarray ipykernel nb_conda_kernels nb_conda metpy ipython nc-time-axis"
      ]
    },
    {
      "cell_type": "markdown",
      "metadata": {
        "id": "UrlWgtiTNKH0"
      },
      "source": [
        "_______\n",
        "The `nb_conda_kernels` package should take care of initializing new kernels (python instances) for us in our new environment.\n",
        "We just need to select the correct kernel from the relevant dropdown menu, it should look something like `[conda env: hw1_ese101]`\n",
        "\n",
        "Alternatively, if something goes wrong, you could also separately create the kernel by running these commands in your anaconda terminal:\n",
        "\n",
        "`conda activate hw1_ese101`  to switch to our new environment, \\\n",
        "`!ipython kernel install --user --name=hw1_ese101` to start a new kernel there, \\\n",
        "`conda deactivate` to switch back to our default environment\n",
        "\n",
        "Then, the kernel in our homework environment should show up in the kernel menu as `hw1_ese101`, possible after needing a refresh.\n"
      ]
    },
    {
      "cell_type": "code",
      "execution_count": null,
      "metadata": {
        "id": "dlMwd9UZNKH0"
      },
      "outputs": [],
      "source": [
        "# To see all the kernels you've created, run\n",
        "!python -m nb_conda_kernels list"
      ]
    },
    {
      "cell_type": "markdown",
      "metadata": {
        "id": "t3aVr-uqNKH1"
      },
      "source": [
        "_______"
      ]
    },
    {
      "cell_type": "markdown",
      "metadata": {
        "id": "ncnPyBJ8NKH1"
      },
      "source": [
        "A few final notes:\n",
        "- **Run cells in this notebook by pressing `Ctrl+Enter`**  (e.g., to fill in cells for answers marked `Answer:`)<br>\n",
        "- **Double click markdown (text) cells to edit them**\n",
        "\n",
        "In this notebook, all the code is pre-prepared and should work without adjustment. Future notebooks will require you to, where prompted, write some simple code, so do your best to understand the examples we have provided here! And don't forget to reach out to the TAs with any and all questions!\n",
        "\n",
        "#### Let's begin!!"
      ]
    },
    {
      "cell_type": "markdown",
      "metadata": {
        "id": "WsmDxWq8NKH1"
      },
      "source": [
        "_______\n",
        "_______"
      ]
    },
    {
      "cell_type": "markdown",
      "metadata": {
        "id": "NsSY3YdBNKH1"
      },
      "source": [
        "#### Import python packages required for this notebook:"
      ]
    },
    {
      "cell_type": "code",
      "execution_count": null,
      "metadata": {
        "id": "72n2m-IJNKH1"
      },
      "outputs": [],
      "source": [
        "import matplotlib as mpl        # Python's default plotting package https://matplotlib.org/\n",
        "import matplotlib.pyplot as plt\n",
        "import cartopy.crs as ccrs      # Mapping  package https://scitools.org.uk/cartopy/docs/latest/\n",
        "from   cartopy.mpl.gridliner import LONGITUDE_FORMATTER, LATITUDE_FORMATTER\n",
        "import numpy as np              # Python's numerical and array calculations package https://numpy.org/\n",
        "import math                     # Python's default math package https://docs.python.org/3/library/math.html\n",
        "import xarray as xr             # Python package for labeled datasets and arrays"
      ]
    },
    {
      "cell_type": "markdown",
      "metadata": {
        "id": "CIORrI9dNKH1"
      },
      "source": [
        "#### Define a function to plot data on a globe:"
      ]
    },
    {
      "cell_type": "code",
      "execution_count": null,
      "metadata": {
        "id": "RGEnmltkNKH1"
      },
      "outputs": [],
      "source": [
        "def cylindrical_equidistant_projection(lats,lons,data,ticks,c_ticks,cmap='RdYlBu_r',c_label='',title='',fig=None,ax=None):\n",
        "    \"\"\"\n",
        "    A function to plot data on a globe\n",
        "    \"\"\"\n",
        "    if fig is None:\n",
        "        fig=plt.figure(figsize=(8, 5)) # initialize a figure\n",
        "\n",
        "    lon2d, lat2d = np.meshgrid(lons, lats) # create 2D lat-lon grid\n",
        "    if ax is None:\n",
        "        ax = plt.axes(projection=ccrs.PlateCarree()) # create axes with assigned Plate Carree map projection\n",
        "\n",
        "    ax.set_title(title,y=1.1) # add a plot title\n",
        "    ax.set_global() # show the entire globe\n",
        "    ax.coastlines() # plot coastlines\n",
        "    gl = ax.gridlines(crs=ccrs.PlateCarree(), draw_labels=True,linewidth=0.75, color='gray', alpha=0.5, linestyle='--') # add lon/lat grid lines\n",
        "    gl.bottom_labels = False # do not label longitudes on bottom\n",
        "    gl.right_labels  = False  # do not lobal latitudes on right\n",
        "    gl.xformatter = LONGITUDE_FORMATTER # format in longitude format\n",
        "    gl.yformatter = LATITUDE_FORMATTER  # format in latitude format\n",
        "\n",
        "    cs=ax.contourf(lons, lats, data,ticks,cmap=cmap) # plot data\n",
        "\n",
        "    # create colorbar\n",
        "    cax,kw = mpl.colorbar.make_axes(ax,location='bottom',pad=0.05,shrink=0.975) # add colorbar axes at bottom\n",
        "    cbar=fig.colorbar(cs,cax=cax,orientation='horizontal',ticks=c_ticks)        # add horizontal colorbar to this axes\n",
        "    cbar.set_label(c_label)                                                     # label colorbar"
      ]
    },
    {
      "cell_type": "markdown",
      "metadata": {
        "id": "UrnguQtINKH1"
      },
      "source": [
        "#### Now let's read monthly surface temperature from CESM2:"
      ]
    },
    {
      "cell_type": "code",
      "execution_count": null,
      "metadata": {
        "id": "2zklnwplNKH1"
      },
      "outputs": [],
      "source": [
        "filepath = 'tas_Amon_CESM2_01_12_1981_2012.nc'  # choose this dataset, monthly surface temperature data\n",
        "surface_temperature = xr.open_dataset(filepath) # open the file\n",
        "surface_temperature                             # examine its data"
      ]
    },
    {
      "cell_type": "markdown",
      "metadata": {
        "id": "sMKVEkDJNKH1"
      },
      "source": [
        "You'll note the data in `surface_temperature` is defined over several coordinates, `lat, lon, time` and the data variable we want is `tas`. We can access this variable with  `surface_temperature['tas']`.\n",
        "\n",
        "#### Now let's plot annual-mean surface temperature, and describe it:"
      ]
    },
    {
      "cell_type": "code",
      "execution_count": null,
      "metadata": {
        "id": "7gtz9SF7NKH1"
      },
      "outputs": [],
      "source": [
        "plt.rcParams.update({'font.size': 16})  # change the font size\n",
        "fig = plt.figure(figsize=(15,10))       # initialize a fairly large figure\n",
        "ann_mean = surface_temperature['tas'].mean('time') # take the mean of our data over the time axis\n",
        "ann_mean = ann_mean.where(ann_mean > 250, 250) # replace values where ann_mean > 250 K is False (i.e. ann_mean < 250) with 250 (remove low outliers)\n",
        "ann_mean = ann_mean.where(ann_mean < 310, 310) # replace values where ann_mean < 310 K is False (i.e. ann_mean > 310) with 310 (remove high outliers)\n",
        "title = 'annual-mean surface temperatures 1981-2010'\n",
        "cylindrical_equidistant_projection(surface_temperature['lat'],surface_temperature['lon'],ann_mean,np.arange(250,310.00001,5),np.arange(250,320,10),cmap='RdYlBu_r',c_label='°C',title=title,fig=fig) # plot"
      ]
    },
    {
      "cell_type": "markdown",
      "metadata": {
        "id": "z6HkvtZ6NKH1"
      },
      "source": [
        "**Decribe features you see in the above plot.**"
      ]
    },
    {
      "cell_type": "markdown",
      "metadata": {
        "id": "6dHJUOfcNKH1"
      },
      "source": [
        "### <b> Answer: </b>\n",
        "\n",
        "<div class=\"alert alert-block alert-warning\">\n",
        "\n",
        "</div>"
      ]
    },
    {
      "cell_type": "markdown",
      "metadata": {
        "id": "TP5zl4EJNKH1"
      },
      "source": [
        "#### Now let's take and plot some seasonal means:"
      ]
    },
    {
      "cell_type": "code",
      "execution_count": null,
      "metadata": {
        "id": "v3J-U87ENKH1"
      },
      "outputs": [],
      "source": [
        "plt.rcParams.update({'font.size': 16})  # change the font size\n",
        "tas_seasonal = surface_temperature['tas'].groupby('time.season').mean() # group by season (DJF, MAM, JJA, SON) and take the (seasonal) mean\n",
        "fig, axes = plt.subplots(nrows=2, ncols=2, figsize=(24,14), subplot_kw={'projection': ccrs.PlateCarree()})\n",
        "for i, season in enumerate(('DJF', 'MAM', 'JJA', 'SON')):\n",
        "    seas_data = tas_seasonal.sel(season=season) # select teh season we want\n",
        "    seas_data = seas_data.where(seas_data > 250, 250) # replace values where ann_mean > 250 K is False (i.e. ann_mean < 250) with 250 (remove low outliers)\n",
        "    seas_data = seas_data.where(seas_data < 310, 310) # replace values where ann_mean < 310 K is False (i.e. ann_mean > 310) with 310 (remove high outliers)\n",
        "    cylindrical_equidistant_projection(surface_temperature['lat'],surface_temperature['lon'],seas_data,np.arange(250,310.00001,5),np.arange(250,320,10),cmap='RdYlBu_r',c_label='°C',title=season,fig=fig,ax=axes.flatten()[i]) # plot"
      ]
    },
    {
      "cell_type": "markdown",
      "metadata": {
        "id": "0VDXfxhPNKH1"
      },
      "source": [
        "**Describe differences across each season.**"
      ]
    },
    {
      "cell_type": "markdown",
      "metadata": {
        "id": "-V4LUCvrNKH1"
      },
      "source": [
        "### <b> Answer: </b>\n",
        "\n",
        "<div class=\"alert alert-block alert-warning\">\n",
        "\n",
        "</div>"
      ]
    },
    {
      "cell_type": "markdown",
      "metadata": {
        "id": "RcFeU_nlNKH1"
      },
      "source": [
        "#### Now, let's examine a single year of zonal winds:"
      ]
    },
    {
      "cell_type": "code",
      "execution_count": null,
      "metadata": {
        "id": "SYx87EFTNKH1"
      },
      "outputs": [],
      "source": [
        "filepath = 'ua_Amon_CESM2_01_12_1981_2012.nc' # choose the file\n",
        "zonal_wind = xr.open_dataset(filepath)\n",
        "zonal_wind"
      ]
    },
    {
      "cell_type": "markdown",
      "metadata": {
        "id": "na_-BXVfNKH2"
      },
      "source": [
        "You'll note the data in `zonal_wind` is now defined over coordinates `lat, lon, time, plev` and the data variable we want is `ua`. We can access this variable with  `zonal_wind['ua']`.\n",
        "\n",
        "#### Now let's plot annual-mean zonal-mean surface temperature, and describe it:"
      ]
    },
    {
      "cell_type": "code",
      "execution_count": null,
      "metadata": {
        "id": "nMdVWxzINKH2"
      },
      "outputs": [],
      "source": [
        "plot_data = zonal_wind['ua'].mean(['time','lon'])          # take the time mean and mean over longitudes\n",
        "fig, axes = plt.subplots(nrows=1, ncols=2, figsize=(32,8)) # creat a figure with a 1x2 grid of subplots\n",
        "axes_list = axes.flatten() # get a list of the axes\n",
        "\n",
        "# we plot the data on each axis, with 200 levels in the colorbar, and y axis limits taken from the plev dimension.\n",
        "# Note plot_data['plev'] and plot_data.plev both work, and we are going from max to min, i.e. a reversed from typical y axis\n",
        "plot_data.plot(         ax=axes_list[0],levels=200,ylim=[plot_data.plev.max(),plot_data.plev.min()]) # plot the data\n",
        "plot_data.plot.contourf(ax=axes_list[1],levels=200,ylim=[plot_data.plev.max(),plot_data.plev.min()])\n",
        "_=axes_list[0].set_title('Zonal-mean zonal Wind, raw')      # title each plot\n",
        "_=axes_list[1].set_title('Zonal-mean zonal Wind, interpolated') # title each plot"
      ]
    },
    {
      "cell_type": "markdown",
      "metadata": {
        "id": "VewlUHRxNKH2"
      },
      "source": [
        "**What patterns do you see in the data? At what level of the atmosphere are winds strongest? Why is this?**\n",
        "- Note red (positive) winds are westerlies (from the west, going east), while blue is the opposite\n",
        "- Note also we've plotted both interpolated and uninterpolated data. It is good practice when creating plots to think about what data plot format implies about the resolution and amount of  underlying data."
      ]
    },
    {
      "cell_type": "markdown",
      "metadata": {
        "id": "TEOT0eqGNKH2"
      },
      "source": [
        "### <b> Answer: </b>\n",
        "\n",
        "<div class=\"alert alert-block alert-warning\">\n",
        "\n",
        "</div>"
      ]
    },
    {
      "cell_type": "markdown",
      "metadata": {
        "id": "JKJUfAGKNKH2"
      },
      "source": [
        "#### Now we will examine a similar dataset, but for temperature:"
      ]
    },
    {
      "cell_type": "code",
      "execution_count": null,
      "metadata": {
        "id": "Cz4RGgTsNKH2"
      },
      "outputs": [],
      "source": [
        "# Load the data\n",
        "filepath = 'ta_Amon_CESM2_01_12_1981_2012.nc'\n",
        "temperature = xr.open_dataset(filepath,decode_cf=True)"
      ]
    },
    {
      "cell_type": "markdown",
      "metadata": {
        "id": "PI15mL1JNKH2"
      },
      "source": [
        "You'll note the data in `temperature` is stored in the same format as `zonal wind`. Now the data variable we want is `ta`. We can access this variable with  `temperature['ta']`.\n",
        "\n",
        "#### Now we will plot the data on both logarithmic nad linear vertical scales:"
      ]
    },
    {
      "cell_type": "code",
      "execution_count": null,
      "metadata": {
        "id": "Mijcz_fDNKH2"
      },
      "outputs": [],
      "source": [
        "plt.rcParams.update({'font.size': 20})\n",
        "plot_data = temperature['ta'].mean(['time','lon'])\n",
        "fig, axes = plt.subplots(nrows=2, ncols=2, figsize=(32,18))\n",
        "axes_list = axes.flatten()\n",
        "plot_data.plot(         ax=axes_list[0],levels=200,cmap='RdYlBu_r'             ,ylim=[plot_data.plev.max(),plot_data.plev.min()]) # uninterpolated data, default (linear) scale\n",
        "plot_data.plot.contourf(ax=axes_list[1],levels=200,cmap='RdYlBu_r'             ,ylim=[plot_data.plev.max(),plot_data.plev.min()]) #   interpolated data, default (linear) scale\n",
        "plot_data.plot(         ax=axes_list[2],levels=200,cmap='RdYlBu_r',yscale='log',ylim=[plot_data.plev.max(),plot_data.plev.min()]) # uninterpolated data, logarithmic scale\n",
        "plot_data.plot.contourf(ax=axes_list[3],levels=200,cmap='RdYlBu_r',yscale='log',ylim=[plot_data.plev.max(),plot_data.plev.min()]) #   interpolated data, logarithmic scale\n",
        "_=axes_list[0].set_title('Zonal-mean temperature, (linear scale)')\n",
        "_=axes_list[1].set_title('Zonal-mean temperature, interpolated (linear scale)')\n",
        "_=axes_list[2].set_title('Zonal-mean temperature, (log y scale ~ altitude)')\n",
        "_=axes_list[3].set_title('Zonal-mean temperature, interpolated (log y scale ~ altitude)')"
      ]
    },
    {
      "cell_type": "markdown",
      "metadata": {
        "id": "aqyXddyxNKH2"
      },
      "source": [
        "Plotting on a logarithmic scale can help us get better context about the vertical structure of the atmosphere. Atmospheric pressure is related to altitude by the exponential decay formula:\n",
        "$$ P = P_{\\text{sfc}} \\;e^{-z/H} $$\n",
        "for a scale height $H = RT/g \\approx 8\\text{ km}$. Thus, we can say for our logarithmic y axis:\n",
        "$$ y =  \\ln(P)   = -z/H -  P_{\\text{sfc}} $$\n",
        "that is to say that the y axis is proportional to (not equal to) altitude, up to some additive constant i.e:\n",
        "$$ y = \\ln(P) \\propto z $$\n",
        "**What patterns do you see in the data? How does changing the vertical scale impact?**\n",
        "- Note that the resolution of the model decreases with altitude (z - It displays a much more unclear pattern in pressure given the exponential decay described above). Why do you think this is?\n",
        "- How does the position of the winds we plotted before align with those of the temperatures we plotted now? (are the winds aligned with temperature maxima, minima, or gradients?"
      ]
    },
    {
      "cell_type": "markdown",
      "metadata": {
        "id": "PusP5E50NKH2"
      },
      "source": [
        "### <b> Answer: </b>\n",
        "\n",
        "<div class=\"alert alert-block alert-warning\">\n",
        "\n",
        "</div>"
      ]
    },
    {
      "cell_type": "markdown",
      "metadata": {
        "id": "CLe1u5YkNKH2"
      },
      "source": [
        "### Now, we will calculate the global-mean temperature.\n",
        "To do this we need to take the area-weighted mean. Because the earth is spherical, data points as high latitudes describe less area than data points at low latitudes. The proper latitude ($\\phi$) weighting is:\n",
        "$$\\text{weight} = \\cos(\\phi) $$\n",
        "If we do not weight correctly, we may overreppresent high latitude areas that are cold but take up little area, decreasing the global-mean temperature. See http://xarray.pydata.org/en/stable/examples/area_weighted_temperature.html\n",
        "\n",
        "Xarray can perform the weighting automatically:"
      ]
    },
    {
      "cell_type": "code",
      "execution_count": null,
      "metadata": {
        "id": "uquWqUYiNKH9"
      },
      "outputs": [],
      "source": [
        "weight = np.cos(np.deg2rad(temperature['lat']))           # convert degrees to radians and calculate the weights using the full xarray lat object. Using the full ojbect and all its metadata is impoprtant!\n",
        "temperature_weighted = temperature['ta'].weighted(weight) # calculate a weighted mean object in xarray ()\n",
        "temperature_weighted # note this prints out a weighted object"
      ]
    },
    {
      "cell_type": "markdown",
      "metadata": {
        "id": "tC_NMjxqNKH9"
      },
      "source": [
        "We may also assume we can do this calculation ourselves. A naive implementation is the calculate the weights from the latitudes as before, and then multiply our data by the weights along the latitude axis ourselves. <br>\n",
        "Such an implementation may go as follows. We find the dimension of latitude in our temperature data array:"
      ]
    },
    {
      "cell_type": "code",
      "execution_count": null,
      "metadata": {
        "id": "ge6DK0m5NKH9"
      },
      "outputs": [],
      "source": [
        "temperature['ta'].dims"
      ]
    },
    {
      "cell_type": "markdown",
      "metadata": {
        "id": "8ZrsyRyXNKH9"
      },
      "source": [
        "We see from running the cell above that the right index is 2 (note python is zero indexed so `lat` is in the 2nd index position. <br>\n",
        "Now we:\n",
        "- align our latitude data along the second dimension\n",
        "- multiply our data by the weights (note we normalize the weights by their sum so that $\n",
        "\\sum{\\text{(normalized weights)}} = 1$ and the global mean magnitude is correct."
      ]
    },
    {
      "cell_type": "code",
      "execution_count": null,
      "metadata": {
        "id": "RNxpAbFtNKH9"
      },
      "outputs": [],
      "source": [
        "lat_data = temperature['lat'].data      # Take the underlying data from the latitude array\n",
        "lat_data = lat_data.reshape(1,1,-1,1)   # The lat dimension is 2, so reshape our vector so it is aligned correctly\n",
        "weight2  = np.cos(np.deg2rad(lat_data)) # Calculate our weights...\n",
        "weight2  = weight2/np.sum(weight2)      # ... and normalize them\n",
        "temperature_weighted_2 = temperature['ta'] * weight2 # apply the weights to the data"
      ]
    },
    {
      "cell_type": "markdown",
      "metadata": {
        "id": "Wa8VG4guNKH9"
      },
      "source": [
        "This implementation, however, despite its simplicity, is incorrect! <br>\n",
        "\n",
        "Note in the previous 2 plots the white area at the surface in the southern hemisphere. This is missing data. It occurs because the surface in Antarctica is so elevated that the pressure at the surface there is higher than that at the bottom of our y/pressure axis. This is only visible at low latitudes where antartica spans all longitudes, but high elevation regions across the globe such as the Himalayas would display a similar issue! <br>\n",
        "\n",
        "Thus, our normalization is a little bit off, we should only consider weights for data we actually have.\n",
        "It seems we'll have to be a bit more precise with our calculation...\n",
        "\n",
        "A more thorough implementation may go as follows:\n",
        "- align our data along the correct (2nd) dimension (already done!)\n",
        "- broadcast it to match the size of our tempearture data, (i.e. expand by repetition so it matches the size of the temperature data)\n",
        "- drop weights in the areas where temperature data is missing\n",
        "- normalize along the latitude dimension (2) based on the weights that remain\n",
        "\n",
        "This is implemented below. I encourage you to pull out any variable and examine it to help you understand what is going on. For example, one might examine <br>\n",
        "`temperature['lat'].shape, lat_data.shape, lat_data_grid.shape` to see their respective shapes."
      ]
    },
    {
      "cell_type": "code",
      "execution_count": null,
      "metadata": {
        "id": "ChyvE7JlNKH-"
      },
      "outputs": [],
      "source": [
        "lat_data_grid = np.broadcast_to(lat_data,temperature['ta'].shape) # use numpy native broadcasting to get a latitude array the same shape as our tempearture data\n",
        "valid    = ~np.isnan(temperature['ta'])                           # valid is only where the temperature data is not nan, i.e. it actually exists\n",
        "weights3  = np.cos(np.deg2rad(lat_data_grid))                      # take the cosine of latitude as the weights\n",
        "weights3 = weights3 * valid                                       # multiply by our validity array, to set the value of weights where data is missing to 0 (i.e. ignore this data/weight)\n",
        "weights3  = weights3/np.sum(weights3,axis=2)                         # sum along the second/latitude axis for normalization\n",
        "temperature_weighted_3 = temperature['ta'] * weights3              # apply the weights to the data"
      ]
    },
    {
      "cell_type": "markdown",
      "metadata": {
        "id": "G3LY-cmlNKH-"
      },
      "source": [
        "Now we can calculate some global means. We have to be a little careful with our weights. The definition of a weighted mean is:\n",
        "$$ \\left<x\\right>_w = \\frac{\\sum w_i x_i}{\\sum w_i} = \\sum x_i \\frac{ w_i }{\\sum w_i}$$\n",
        "and we have calculated by multiplication:\n",
        "$$ \\left<x\\right>_w = x_i \\frac{ w_i }{\\sum w_i} $$\n",
        "So the only remaining operation is a sum. <br>\n",
        "\n",
        "We calculate and plot our 3 methods of doing this calculation below:"
      ]
    },
    {
      "cell_type": "code",
      "execution_count": null,
      "metadata": {
        "id": "2QCixmtyNKH-"
      },
      "outputs": [],
      "source": [
        "fig = plt.figure(figsize=(8, 12)) # assign a vertically tall figure\n",
        "ax  = plt.axes()                  # assign axes to the figure\n",
        "plot_data     = temperature_weighted.mean(['lat','lon','time']).transpose()         # take the mean over latitude, longitude, and time leaving only a vertical profile\n",
        "plot_data_2 = temperature_weighted_2.sum(['lat']).mean(['lon','time']).transpose()  # for latitude, we only have the sum as described above, and then a mean over lat and time to leave a vertical profile\n",
        "plot_data_3 = temperature_weighted_3.sum(['lat']).mean(['lon','time']).transpose()  # for latitude, we only have the sum as described above, and then a mean over lat and time to leave a vertical profile\n",
        "\n",
        "plot_data.plot(  ax=ax, y='plev',yscale='log',ylim=[plot_data.plev.max()  ,plot_data.plev.min()  ],linewidth=10,              color='cyan' , label='xarray'  ) # plot profile, log scale, width 10, color cyan,  label as xarray\n",
        "plot_data_2.plot(ax=ax, y='plev',yscale='log',ylim=[plot_data_2.plev.max(),plot_data_2.plev.min()],                           color='black', label='method 1') # plot profile, log scale,           color black, label as method 1\n",
        "plot_data_3.plot(ax=ax, y='plev',yscale='log',ylim=[plot_data_3.plev.max(),plot_data_3.plev.min()],linestyle='--',linewidth=3,color='r'    , label='method 2') # plot profile, log scale, width 3,  color red,   label as method 2\n",
        "_ = ax.legend() # you see the problems at the bottom from some missing data"
      ]
    },
    {
      "cell_type": "markdown",
      "metadata": {
        "id": "LqEnMPT5NKH-"
      },
      "source": [
        "Thankfull, we see our second method matches the native xarray method! The first, however, is incorrect, primarily because it assigned positive weights to missing data decreasing the total value of our averages. <br>\n",
        "This can teach us a few important lessons:\n",
        "- We should always be very careful with our calculations and be aware of what our data actually contains to avoid careless errors such as the one we might have made here\n",
        "- **Perhaps more importantly, it is generally better to use trusted official libraries and packages to perform calculations rather than write your own.**\n",
        "\n",
        "**What interesting features do you see in the correct profiles? Where is the tropopause?**"
      ]
    },
    {
      "cell_type": "markdown",
      "metadata": {
        "id": "d05YXOndNKH-"
      },
      "source": [
        "### <b> Answer: </b>\n",
        "\n",
        "<div class=\"alert alert-block alert-warning\">\n",
        "\n",
        "</div>"
      ]
    },
    {
      "cell_type": "markdown",
      "metadata": {
        "id": "7fqIw_H6NKH-"
      },
      "source": [
        "#### Now let's examine the annual temperature cycle at the lowest model level:\n",
        "We use xarray's native weighting and then take a mean over the `lat` and `lon` dimensions. Then we use index selection `isel` to select the lowest elevation pressure level."
      ]
    },
    {
      "cell_type": "code",
      "execution_count": null,
      "metadata": {
        "id": "ykNpKFaBNKH-"
      },
      "outputs": [],
      "source": [
        "fit = plt.figure(figsize=(15, 5)) # create a figure\n",
        "ax  = plt.axes()                  # attach axes\n",
        "plot_data     = temperature_weighted.mean(['lat','lon']).isel(plev=0).transpose()\n",
        "plot_data.plot(  ax=ax, label='xarray') # plot the data\n",
        "_ = ax.legend()"
      ]
    },
    {
      "cell_type": "markdown",
      "metadata": {
        "id": "NRrFWtZdNKH-"
      },
      "source": [
        "**Is there an annual cycle in temperature, and if so, why? (Hint: How large is the variability in this plot compared the annual cycle of temperatures in any individual location?)**"
      ]
    },
    {
      "cell_type": "markdown",
      "metadata": {
        "id": "YUbPiHX1NKH-"
      },
      "source": [
        "### <b> Answer: </b>\n",
        "\n",
        "<div class=\"alert alert-block alert-warning\">\n",
        "\n",
        "</div>"
      ]
    },
    {
      "cell_type": "markdown",
      "metadata": {
        "jupyter": {
          "outputs_hidden": true
        },
        "id": "621U8ruSNKH-"
      },
      "source": [
        "#### Now, let's return to our vertical profiles and see what the temperature looks like in a selection of locations around the world.\n",
        "First, we prepare our data by selecting data nearest to the coordinates of our locations:"
      ]
    },
    {
      "cell_type": "code",
      "execution_count": null,
      "metadata": {
        "id": "YJL1-gkJNKH-"
      },
      "outputs": [],
      "source": [
        "# get the coordinates of some locations\n",
        "coords = {'Los Angeles'      : [34.05349 , 241.75468], # [ lat, lon]\n",
        "          'Mt. Everest'      : [27.988056, 86.92528 ],\n",
        "          'South Pole'       : [-90.0    , 0        ],\n",
        "          'Tropical Pacific' : [0        , 180      ]\n",
        "         }\n",
        "# reate a dictionary of data and fill it with data\n",
        "data ={}\n",
        "for location,coordinates in coords.items(): # loop over the name,value pairs in our coordinate dictionary\n",
        "    data[location] = temperature['ta'].sel(lat=coordinates[0],lon=coordinates[1],method='nearest') # select the data nearest to our location coordinates\n",
        "\n",
        "# Create a colormap that cycles between cold to warm colors\n",
        "from matplotlib.colors import ListedColormap, LinearSegmentedColormap\n",
        "colors = cmap = LinearSegmentedColormap.from_list(\"mycmap\", [[0,0,1],[0,1,.5],[1,0,0],'yellow',[0,0,1]],N=13)\n",
        "colors = cmap(np.linspace(0, 1, 13)[0:12])\n",
        "\n",
        "months = np.array(temperature.time.dt.month) # get month numbers from our dataset\n",
        "month_names = ['Jan','Feb','Mar','Apr','May','Jun','Jul','Aug','Sep','Oct','Nov','Dec'] # get names for our datasets"
      ]
    },
    {
      "cell_type": "markdown",
      "metadata": {
        "id": "Erijav2XNKH-"
      },
      "source": [
        "Now that we've prepared the data, we can plot it. We'll plot it by month so we can see the annual cycle:"
      ]
    },
    {
      "cell_type": "code",
      "execution_count": null,
      "metadata": {
        "id": "pVdQujqaNKH-"
      },
      "outputs": [],
      "source": [
        "fig, axes = plt.subplots(nrows=2, ncols=2, figsize=(32,32)) # prepare our 2x2 grid of subplots in side our figure\n",
        "axes_list = axes.flatten()             # get a list of axes from the flattening the 2x2 grid to a 1x4 list\n",
        "plt.rcParams.update({'font.size': 20}) # set font size\n",
        "\n",
        "for i,location in enumerate(data.keys()): # iterate over our data and its index using enumerate\n",
        "    for month in months:\n",
        "        plot_data = data[location].isel(time=month-1) # months are not zero indexed, but python is, so we use index month-1 to access that months data\n",
        "        plot_data.plot(ax= axes_list[i], y='plev',yscale='log',ylim=[plot_data.plev.max()  ,plot_data.plev.min()  ],color=colors[month-1],label=month_names[month-1]) # plot the data, yscale log, and color and label it using the colors and names described in the previous cell\n",
        "    axes_list[i].set_title(location) # title iwth the location\n",
        "    axes_list[i].legend(fontsize=20) # add a legend to show the months"
      ]
    },
    {
      "cell_type": "markdown",
      "metadata": {
        "id": "CHvj4OaXNKH-"
      },
      "source": [
        "**What sort of patterns do you see in the data?** <br>\n",
        "It is okay to be broad or vague here, we don't expect you to necessarily know what to look for! Some ideas might include:\n",
        "- How does the surface temperature compare with your expectation of cold and warm regions across the globe?\n",
        "- How large is the annual cycle? At the surface? Aloft? What months are warm? What months are cold?\n",
        " - If you have any insight into why these variations might occur, feel free to provide them, if not that's okay! We'll go over some of this in recitation and office hours\n",
        "- Is the rate of change of temperature with height a constant? (This is a log pressure scale, i.e. proportional to altitude, so in the troposphere the answer should be yes!)\n",
        " - If you're particularly observant, you'll note a slight increase in the lapse rate $\\left(\\frac{\\partial T}{\\partial z}\\right)$ in the upper vs lower troposphere. <br> This is particularly visible in the tropical atmosphere. Why might this exist?\n",
        "- How does the location of the tropopause vary with location? How does this compare with the zonal-mean cross section maps of temperature we made earlier?"
      ]
    },
    {
      "cell_type": "markdown",
      "metadata": {
        "id": "R0qdWEVQNKH-"
      },
      "source": [
        "### <b> Answer: </b>\n",
        "\n",
        "<div class=\"alert alert-block alert-warning\">\n",
        "\n",
        "</div>"
      ]
    }
  ],
  "metadata": {
    "kernelspec": {
      "display_name": "Python 3.9.7",
      "language": "python",
      "name": "python3"
    },
    "language_info": {
      "codemirror_mode": {
        "name": "ipython",
        "version": 3
      },
      "file_extension": ".py",
      "mimetype": "text/x-python",
      "name": "python",
      "nbconvert_exporter": "python",
      "pygments_lexer": "ipython3",
      "version": "3.9.7"
    },
    "vscode": {
      "interpreter": {
        "hash": "27ca07f0d7eaa5ebff5d1833ec37ad146a1ba988a5f73c358e1044409d4555e7"
      }
    },
    "colab": {
      "provenance": []
    }
  },
  "nbformat": 4,
  "nbformat_minor": 0
}